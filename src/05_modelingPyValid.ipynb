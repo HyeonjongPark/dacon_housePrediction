{
 "cells": [
  {
   "cell_type": "code",
   "execution_count": 918,
   "metadata": {},
   "outputs": [],
   "source": [
    "import pandas as pd\n",
    "import numpy as np\n",
    "\n",
    "import warnings\n",
    "warnings.filterwarnings('ignore')"
   ]
  },
  {
   "cell_type": "code",
   "execution_count": 919,
   "metadata": {},
   "outputs": [
    {
     "name": "stdout",
     "output_type": "stream",
     "text": [
      "C:\\Users\\guswh\\Desktop\\data-analysis\\dacon_housePrediction\\src\n"
     ]
    }
   ],
   "source": [
    "import os\n",
    "print(os.getcwd())"
   ]
  },
  {
   "cell_type": "code",
   "execution_count": 920,
   "metadata": {},
   "outputs": [],
   "source": [
    "train = pd.read_csv('../data/prep/train3_train.csv')\n",
    "test = pd.read_csv('../data/prep/test3_valid.csv')\n",
    "submission = pd.read_csv('../data/prep/submission_valid.csv')"
   ]
  },
  {
   "cell_type": "code",
   "execution_count": 921,
   "metadata": {},
   "outputs": [],
   "source": [
    "train = train.iloc[:, 1:]\n",
    "test = test.iloc[:, 1:]"
   ]
  },
  {
   "cell_type": "code",
   "execution_count": 922,
   "metadata": {},
   "outputs": [],
   "source": [
    "X = train.drop('target', axis = 1)\n",
    "#y = np.log1p(train.target)\n",
    "y = train.target\n",
    "target = test[X.columns]"
   ]
  },
  {
   "cell_type": "code",
   "execution_count": 923,
   "metadata": {},
   "outputs": [],
   "source": [
    "from sklearn.ensemble import GradientBoostingRegressor, RandomForestRegressor\n",
    "from catboost import CatBoostRegressor, Pool\n",
    "from ngboost import NGBRegressor\n",
    "from sklearn.metrics import make_scorer\n",
    "from sklearn.model_selection import KFold"
   ]
  },
  {
   "cell_type": "code",
   "execution_count": 924,
   "metadata": {},
   "outputs": [],
   "source": [
    "def NMAE(true, pred) -> float:\n",
    "    mae = np.mean(np.abs(true - pred))\n",
    "    score = mae / np.mean(np.abs(true))\n",
    "    return score"
   ]
  },
  {
   "cell_type": "code",
   "execution_count": 925,
   "metadata": {},
   "outputs": [],
   "source": [
    "nmae_score = make_scorer(NMAE, greater_is_better=False)"
   ]
  },
  {
   "cell_type": "code",
   "execution_count": 926,
   "metadata": {},
   "outputs": [],
   "source": [
    "kf = KFold(n_splits = 10, random_state = 42, shuffle = True)"
   ]
  },
  {
   "cell_type": "code",
   "execution_count": null,
   "metadata": {},
   "outputs": [],
   "source": []
  },
  {
   "cell_type": "code",
   "execution_count": 912,
   "metadata": {
    "scrolled": true
   },
   "outputs": [
    {
     "name": "stdout",
     "output_type": "stream",
     "text": [
      "1 FOLD Training.....\n",
      "0:\tlearn: 0.2892852\ttest: 183381.3000474\tbest: 183381.3000474 (0)\ttotal: 1.1ms\tremaining: 3.3s\n",
      "Stopped by overfitting detector  (750 iterations wait)\n",
      "\n",
      "bestTest = 183381.2629\n",
      "bestIteration = 133\n",
      "\n",
      "Shrink model to first 134 iterations.\n",
      "1 FOLD NMAE = 0.08523984975261902\n",
      "\n",
      "2 FOLD Training.....\n",
      "0:\tlearn: 0.2905352\ttest: 188228.8769451\tbest: 188228.8769451 (0)\ttotal: 1.11ms\tremaining: 3.32s\n",
      "Stopped by overfitting detector  (750 iterations wait)\n",
      "\n",
      "bestTest = 188228.7988\n",
      "bestIteration = 207\n",
      "\n",
      "Shrink model to first 208 iterations.\n",
      "2 FOLD NMAE = 0.10384232671632576\n",
      "\n",
      "3 FOLD Training.....\n",
      "0:\tlearn: 0.2892624\ttest: 176123.6074464\tbest: 176123.6074464 (0)\ttotal: 1.73ms\tremaining: 5.18s\n",
      "Stopped by overfitting detector  (750 iterations wait)\n",
      "\n",
      "bestTest = 176123.6074\n",
      "bestIteration = 0\n",
      "\n",
      "Shrink model to first 1 iterations.\n",
      "3 FOLD NMAE = 0.29453394284470136\n",
      "\n",
      "4 FOLD Training.....\n",
      "0:\tlearn: 0.2906645\ttest: 192980.9502626\tbest: 192980.9502626 (0)\ttotal: 1.63ms\tremaining: 4.88s\n",
      "1000:\tlearn: 0.0624786\ttest: 192980.8570676\tbest: 192980.8568682 (736)\ttotal: 1.18s\tremaining: 2.35s\n",
      "Stopped by overfitting detector  (750 iterations wait)\n",
      "\n",
      "bestTest = 192980.8569\n",
      "bestIteration = 736\n",
      "\n",
      "Shrink model to first 737 iterations.\n",
      "4 FOLD NMAE = 0.08839341080074498\n",
      "\n",
      "5 FOLD Training.....\n",
      "0:\tlearn: 0.2896067\ttest: 190860.3669458\tbest: 190860.3669458 (0)\ttotal: 1.08ms\tremaining: 3.24s\n",
      "Stopped by overfitting detector  (750 iterations wait)\n",
      "\n",
      "bestTest = 190860.3029\n",
      "bestIteration = 116\n",
      "\n",
      "Shrink model to first 117 iterations.\n",
      "5 FOLD NMAE = 0.09992777963446767\n",
      "\n",
      "6 FOLD Training.....\n",
      "0:\tlearn: 0.2906410\ttest: 177511.4390381\tbest: 177511.4390381 (0)\ttotal: 2.15ms\tremaining: 6.44s\n",
      "Stopped by overfitting detector  (750 iterations wait)\n",
      "\n",
      "bestTest = 177511.4149\n",
      "bestIteration = 59\n",
      "\n",
      "Shrink model to first 60 iterations.\n",
      "6 FOLD NMAE = 0.10936553674746033\n",
      "\n",
      "7 FOLD Training.....\n",
      "0:\tlearn: 0.2880105\ttest: 189632.5038615\tbest: 189632.5038615 (0)\ttotal: 1.62ms\tremaining: 4.85s\n",
      "Stopped by overfitting detector  (750 iterations wait)\n",
      "\n",
      "bestTest = 189632.4636\n",
      "bestIteration = 121\n",
      "\n",
      "Shrink model to first 122 iterations.\n",
      "7 FOLD NMAE = 0.11016222970222324\n",
      "\n",
      "8 FOLD Training.....\n",
      "0:\tlearn: 0.2910396\ttest: 184949.8891542\tbest: 184949.8891542 (0)\ttotal: 3.87ms\tremaining: 11.6s\n",
      "1000:\tlearn: 0.0639823\ttest: 184949.8354222\tbest: 184949.8348953 (477)\ttotal: 1.88s\tremaining: 3.75s\n",
      "Stopped by overfitting detector  (750 iterations wait)\n",
      "\n",
      "bestTest = 184949.8349\n",
      "bestIteration = 477\n",
      "\n",
      "Shrink model to first 478 iterations.\n",
      "8 FOLD NMAE = 0.09730071826056226\n",
      "\n",
      "9 FOLD Training.....\n",
      "0:\tlearn: 0.2853244\ttest: 189649.0094376\tbest: 189649.0094376 (0)\ttotal: 2.08ms\tremaining: 6.25s\n",
      "Stopped by overfitting detector  (750 iterations wait)\n",
      "\n",
      "bestTest = 189648.9624\n",
      "bestIteration = 218\n",
      "\n",
      "Shrink model to first 219 iterations.\n",
      "9 FOLD NMAE = 0.09903483549069374\n",
      "\n",
      "10 FOLD Training.....\n",
      "0:\tlearn: 0.2854997\ttest: 205656.4899085\tbest: 205656.4899085 (0)\ttotal: 1.55ms\tremaining: 4.66s\n",
      "1000:\tlearn: 0.0622734\ttest: 205656.3753204\tbest: 205656.3751654 (431)\ttotal: 1.86s\tremaining: 3.72s\n",
      "Stopped by overfitting detector  (750 iterations wait)\n",
      "\n",
      "bestTest = 205656.3752\n",
      "bestIteration = 431\n",
      "\n",
      "Shrink model to first 432 iterations.\n",
      "10 FOLD NMAE = 0.09035148885575559\n",
      "\n",
      "10FOLD Mean of NMAE = 0.11781521188055537 & std = 0.05943843574370434\n"
     ]
    }
   ],
   "source": [
    "cb_pred = np.zeros(target.shape[0])\n",
    "cb_val = []\n",
    "for n, (tr_idx, val_idx) in enumerate(kf.split(X, y)) :\n",
    "    print(f'{n + 1} FOLD Training.....')\n",
    "    tr_x, tr_y = X.iloc[tr_idx], y.iloc[tr_idx]\n",
    "    val_x, val_y = X.iloc[val_idx], np.expm1(y.iloc[val_idx])\n",
    "    \n",
    "    tr_data = Pool(data = tr_x, label = tr_y)\n",
    "    val_data = Pool(data = val_x, label = val_y)\n",
    "    \n",
    "    cb = CatBoostRegressor(depth = 4, random_state = 42, loss_function = 'MAE', n_estimators = 3000, learning_rate = 0.03, verbose = 0)\n",
    "    cb.fit(tr_data, eval_set = val_data, early_stopping_rounds = 750, verbose = 1000)\n",
    "    \n",
    "    val_pred = np.expm1(cb.predict(val_x))\n",
    "    val_nmae = NMAE(val_y, val_pred)\n",
    "    cb_val.append(val_nmae)\n",
    "    print(f'{n + 1} FOLD NMAE = {val_nmae}\\n')\n",
    "    \n",
    "    target_data = Pool(data = target, label = None)\n",
    "    fold_pred = cb.predict(target) / 10\n",
    "    cb_pred += fold_pred\n",
    "print(f'10FOLD Mean of NMAE = {np.mean(cb_val)} & std = {np.std(cb_val)}')"
   ]
  },
  {
   "cell_type": "code",
   "execution_count": 927,
   "metadata": {
    "scrolled": true
   },
   "outputs": [
    {
     "name": "stdout",
     "output_type": "stream",
     "text": [
      "1 FOLD Training.....\n",
      "1 FOLD NMAE = 0.07898627274687313\n",
      "\n",
      "2 FOLD Training.....\n",
      "2 FOLD NMAE = 0.09947348602294435\n",
      "\n",
      "3 FOLD Training.....\n",
      "3 FOLD NMAE = 0.10633357406336943\n",
      "\n",
      "4 FOLD Training.....\n",
      "4 FOLD NMAE = 0.08698153853374317\n",
      "\n",
      "5 FOLD Training.....\n",
      "5 FOLD NMAE = 0.10210106830469523\n",
      "\n",
      "6 FOLD Training.....\n",
      "6 FOLD NMAE = 0.10326260790512203\n",
      "\n",
      "7 FOLD Training.....\n",
      "7 FOLD NMAE = 0.1087532068413808\n",
      "\n",
      "8 FOLD Training.....\n",
      "8 FOLD NMAE = 0.0935836114863561\n",
      "\n",
      "9 FOLD Training.....\n",
      "9 FOLD NMAE = 0.107240454537661\n",
      "\n",
      "10 FOLD Training.....\n",
      "10 FOLD NMAE = 0.08872926978028181\n",
      "\n",
      "10FOLD Mean of NMAE = 0.09754450902224271 & std = 0.009505027098910072\n"
     ]
    }
   ],
   "source": [
    "# ngboost\n",
    "ngb_pred = np.zeros(target.shape[0])\n",
    "ngb_val = []\n",
    "for n, (tr_idx, val_idx) in enumerate(kf.split(X, y)) :\n",
    "    print(f'{n + 1} FOLD Training.....')\n",
    "    tr_x, tr_y = X.iloc[tr_idx], y.iloc[tr_idx]\n",
    "    val_x, val_y = X.iloc[val_idx], np.expm1(y.iloc[val_idx])\n",
    "    \n",
    "    ngb = NGBRegressor(random_state = 42, n_estimators = 1000, verbose = 0, learning_rate = 0.03)\n",
    "    ngb.fit(tr_x, tr_y, val_x, val_y, early_stopping_rounds = 300)\n",
    "    \n",
    "    val_pred = np.expm1(ngb.predict(val_x))\n",
    "    val_nmae = NMAE(val_y, val_pred)\n",
    "    ngb_val.append(val_nmae)\n",
    "    print(f'{n + 1} FOLD NMAE = {val_nmae}\\n')\n",
    "    \n",
    "    target_data = Pool(data = target, label = None)\n",
    "    fold_pred = ngb.predict(target) / 10\n",
    "    ngb_pred += fold_pred\n",
    "print(f'10FOLD Mean of NMAE = {np.mean(ngb_val)} & std = {np.std(ngb_val)}')"
   ]
  },
  {
   "cell_type": "code",
   "execution_count": 928,
   "metadata": {},
   "outputs": [],
   "source": [
    "submission['target'] = ngb_pred"
   ]
  },
  {
   "cell_type": "code",
   "execution_count": 929,
   "metadata": {},
   "outputs": [],
   "source": [
    "submission.to_csv(\"../out/ngb/ngb1_valid.csv\", header = True, index = False)"
   ]
  },
  {
   "cell_type": "code",
   "execution_count": null,
   "metadata": {},
   "outputs": [],
   "source": []
  },
  {
   "cell_type": "code",
   "execution_count": 930,
   "metadata": {},
   "outputs": [],
   "source": [
    "submission['target'] = cb_pred"
   ]
  },
  {
   "cell_type": "code",
   "execution_count": 931,
   "metadata": {},
   "outputs": [],
   "source": [
    "submission.to_csv(\"../out/cb/cb1_valid.csv\", header = True, index = False)"
   ]
  },
  {
   "cell_type": "code",
   "execution_count": null,
   "metadata": {},
   "outputs": [],
   "source": []
  },
  {
   "cell_type": "code",
   "execution_count": null,
   "metadata": {},
   "outputs": [],
   "source": []
  }
 ],
 "metadata": {
  "kernelspec": {
   "display_name": "Python 3",
   "language": "python",
   "name": "python3"
  },
  "language_info": {
   "codemirror_mode": {
    "name": "ipython",
    "version": 3
   },
   "file_extension": ".py",
   "mimetype": "text/x-python",
   "name": "python",
   "nbconvert_exporter": "python",
   "pygments_lexer": "ipython3",
   "version": "3.7.3"
  }
 },
 "nbformat": 4,
 "nbformat_minor": 2
}
